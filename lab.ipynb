{
 "cells": [
  {
   "cell_type": "markdown",
   "metadata": {},
   "source": [
    "## Word embeddings\n",
    "### *Apr 16, 2019*\n",
    "### Author:\n",
    "\n",
    "Gensim documents: https://radimrehurek.com/gensim/models/word2vec.html\n",
    "If there's any import error, please run `pip install -r requirements.txt` under this directory."
   ]
  },
  {
   "cell_type": "markdown",
   "metadata": {},
   "source": [
    "### 1.\n",
    "Word2vec offers a small corpus for testing: http://mattmahoney.net/dc/text8.zip. Let's play around with this trained model.\n",
    "\n",
    "Loading the data requires a large amount of RAM and may take a while."
   ]
  },
  {
   "cell_type": "code",
   "execution_count": 1,
   "metadata": {},
   "outputs": [
    {
     "name": "stdout",
     "output_type": "stream",
     "text": [
      "Requirement already satisfied: gensim in /opt/netapps/lwpy/venv-3.5b/lib/python3.5/site-packages (from -r requirements.txt (line 1)) (3.6.0)\n",
      "Requirement already satisfied: matplotlib in /opt/netapps/lwpy/venv-3.5b/lib/python3.5/site-packages (from -r requirements.txt (line 2)) (3.0.2)\n",
      "Requirement already satisfied: scikit-learn in /opt/netapps/lwpy/venv-3.5b/lib/python3.5/site-packages (from -r requirements.txt (line 3)) (0.20.0)\n",
      "Requirement already satisfied: numpy in /opt/netapps/lwpy/venv-3.5b/lib/python3.5/site-packages (from -r requirements.txt (line 4)) (1.15.4)\n",
      "Requirement already satisfied: smart-open>=1.2.1 in /opt/netapps/lwpy/venv-3.5b/lib/python3.5/site-packages (from gensim->-r requirements.txt (line 1)) (1.7.1)\n",
      "Requirement already satisfied: six>=1.5.0 in /opt/netapps/lwpy/venv-3.5b/lib/python3.5/site-packages (from gensim->-r requirements.txt (line 1)) (1.11.0)\n",
      "Requirement already satisfied: scipy>=0.18.1 in /opt/netapps/lwpy/venv-3.5b/lib/python3.5/site-packages (from gensim->-r requirements.txt (line 1)) (1.1.0)\n",
      "Requirement already satisfied: kiwisolver>=1.0.1 in /opt/netapps/lwpy/venv-3.5b/lib/python3.5/site-packages (from matplotlib->-r requirements.txt (line 2)) (1.0.1)\n",
      "Requirement already satisfied: cycler>=0.10 in /opt/netapps/lwpy/venv-3.5b/lib/python3.5/site-packages (from matplotlib->-r requirements.txt (line 2)) (0.10.0)\n",
      "Requirement already satisfied: pyparsing!=2.0.4,!=2.1.2,!=2.1.6,>=2.0.1 in /opt/netapps/lwpy/venv-3.5b/lib/python3.5/site-packages (from matplotlib->-r requirements.txt (line 2)) (2.3.0)\n",
      "Requirement already satisfied: python-dateutil>=2.1 in /opt/netapps/lwpy/venv-3.5b/lib/python3.5/site-packages (from matplotlib->-r requirements.txt (line 2)) (2.7.5)\n",
      "Requirement already satisfied: boto>=2.32 in /opt/netapps/lwpy/venv-3.5b/lib/python3.5/site-packages (from smart-open>=1.2.1->gensim->-r requirements.txt (line 1)) (2.49.0)\n",
      "Requirement already satisfied: requests in /opt/netapps/lwpy/venv-3.5b/lib/python3.5/site-packages (from smart-open>=1.2.1->gensim->-r requirements.txt (line 1)) (2.20.1)\n",
      "Requirement already satisfied: boto3 in /opt/netapps/lwpy/venv-3.5b/lib/python3.5/site-packages (from smart-open>=1.2.1->gensim->-r requirements.txt (line 1)) (1.9.42)\n",
      "Requirement already satisfied: bz2file in /opt/netapps/lwpy/venv-3.5b/lib/python3.5/site-packages (from smart-open>=1.2.1->gensim->-r requirements.txt (line 1)) (0.98)\n",
      "Requirement already satisfied: setuptools in /opt/netapps/lwpy/venv-3.5b/lib/python3.5/site-packages (from kiwisolver>=1.0.1->matplotlib->-r requirements.txt (line 2)) (40.5.0)\n",
      "Requirement already satisfied: certifi>=2017.4.17 in /opt/netapps/lwpy/venv-3.5b/lib/python3.5/site-packages (from requests->smart-open>=1.2.1->gensim->-r requirements.txt (line 1)) (2018.10.15)\n",
      "Requirement already satisfied: idna<2.8,>=2.5 in /opt/netapps/lwpy/venv-3.5b/lib/python3.5/site-packages (from requests->smart-open>=1.2.1->gensim->-r requirements.txt (line 1)) (2.7)\n",
      "Requirement already satisfied: urllib3<1.25,>=1.21.1 in /opt/netapps/lwpy/venv-3.5b/lib/python3.5/site-packages (from requests->smart-open>=1.2.1->gensim->-r requirements.txt (line 1)) (1.24.1)\n",
      "Requirement already satisfied: chardet<3.1.0,>=3.0.2 in /opt/netapps/lwpy/venv-3.5b/lib/python3.5/site-packages (from requests->smart-open>=1.2.1->gensim->-r requirements.txt (line 1)) (3.0.4)\n",
      "Requirement already satisfied: jmespath<1.0.0,>=0.7.1 in /opt/netapps/lwpy/venv-3.5b/lib/python3.5/site-packages (from boto3->smart-open>=1.2.1->gensim->-r requirements.txt (line 1)) (0.9.3)\n",
      "Requirement already satisfied: botocore<1.13.0,>=1.12.42 in /opt/netapps/lwpy/venv-3.5b/lib/python3.5/site-packages (from boto3->smart-open>=1.2.1->gensim->-r requirements.txt (line 1)) (1.12.42)\n",
      "Requirement already satisfied: s3transfer<0.2.0,>=0.1.10 in /opt/netapps/lwpy/venv-3.5b/lib/python3.5/site-packages (from boto3->smart-open>=1.2.1->gensim->-r requirements.txt (line 1)) (0.1.13)\n",
      "Requirement already satisfied: docutils>=0.10 in /opt/netapps/lwpy/venv-3.5b/lib/python3.5/site-packages (from botocore<1.13.0,>=1.12.42->boto3->smart-open>=1.2.1->gensim->-r requirements.txt (line 1)) (0.14)\n",
      "\u001b[33mYou are using pip version 18.1, however version 19.0.3 is available.\n",
      "You should consider upgrading via the 'pip install --upgrade pip' command.\u001b[0m\n",
      "[==================================================] 100.0% 31.6/31.6MB downloaded\n"
     ]
    }
   ],
   "source": [
    "!pip install -r requirements.txt\n",
    "from gensim import models\n",
    "import gensim.downloader as api\n",
    "import numpy as np\n",
    "import matplotlib.pyplot as plt\n",
    "from sklearn.manifold import TSNE\n",
    "\n",
    "\n",
    "dataset = api.load(\"text8\")"
   ]
  },
  {
   "cell_type": "code",
   "execution_count": 4,
   "metadata": {},
   "outputs": [],
   "source": [
    "w = models.Word2Vec.load('pretrained')"
   ]
  },
  {
   "cell_type": "code",
   "execution_count": 10,
   "metadata": {},
   "outputs": [
    {
     "data": {
      "text/plain": [
       "[('meat', 0.8315112590789795),\n",
       " ('eat', 0.8029888272285461),\n",
       " ('milk', 0.7873179912567139),\n",
       " ('drinks', 0.7806337475776672),\n",
       " ('fruit', 0.7606136798858643),\n",
       " ('eating', 0.7544460296630859),\n",
       " ('honey', 0.7533469796180725),\n",
       " ('beer', 0.750900387763977),\n",
       " ('liquor', 0.7410033345222473),\n",
       " ('beef', 0.739946722984314)]"
      ]
     },
     "execution_count": 10,
     "metadata": {},
     "output_type": "execute_result"
    }
   ],
   "source": [
    "w.wv.similar_by_word('drink')"
   ]
  },
  {
   "cell_type": "markdown",
   "metadata": {},
   "source": [
    "Try some differnt words and find their most similar words according to our model. Which of them are unexpected? What's the possible explanation?"
   ]
  },
  {
   "cell_type": "code",
   "execution_count": 3,
   "metadata": {},
   "outputs": [],
   "source": [
    "w.save('pretrained')"
   ]
  },
  {
   "cell_type": "markdown",
   "metadata": {},
   "source": [
    "### 2.\n",
    "We mentioned how to find analogies in our class. Can you come up with more such relations? Please add two more relations, and leavea a possible explanation if the result is unexpected (which is often the case)."
   ]
  },
  {
   "cell_type": "code",
   "execution_count": 9,
   "metadata": {},
   "outputs": [
    {
     "data": {
      "text/plain": [
       "[('queen', 0.6991748213768005),\n",
       " ('princess', 0.6138308644294739),\n",
       " ('empress', 0.6116824150085449),\n",
       " ('elizabeth', 0.5983043909072876),\n",
       " ('emperor', 0.5824447870254517),\n",
       " ('prince', 0.5801239013671875),\n",
       " ('regent', 0.5786587595939636),\n",
       " ('daughter', 0.57823246717453),\n",
       " ('isabella', 0.5703590512275696),\n",
       " ('mary', 0.5700576901435852)]"
      ]
     },
     "execution_count": 9,
     "metadata": {},
     "output_type": "execute_result"
    }
   ],
   "source": [
    "w.wv.most_similar(positive=['woman', 'king'], negative=['man'])"
   ]
  },
  {
   "cell_type": "markdown",
   "metadata": {},
   "source": [
    "### 3.\n",
    "Now you can define a new model and try to change the parameter, see if that makes a difference in your result. What are the influences of window size? What about embeddings' length?"
   ]
  },
  {
   "cell_type": "code",
   "execution_count": null,
   "metadata": {},
   "outputs": [],
   "source": []
  },
  {
   "cell_type": "markdown",
   "metadata": {},
   "source": [
    "### 4. (optional)\n",
    "Train your own word2vec model by using your own corpus from e.g. Wikipedia, Twitter, novels, etc.\n",
    "\n",
    "You may refer to: https://en.wikipedia.org/wiki/List_of_text_corpora"
   ]
  },
  {
   "cell_type": "code",
   "execution_count": null,
   "metadata": {},
   "outputs": [],
   "source": [
    "your_dataset = open('<filename>').read()  ## save your corpus as raw text\n",
    "your_model = models.Word2Vec(your_dataset)"
   ]
  },
  {
   "cell_type": "markdown",
   "metadata": {},
   "source": [
    "### 5. (optional)\n",
    "Visualizing your word embeddings with the function offered below."
   ]
  },
  {
   "cell_type": "code",
   "execution_count": 13,
   "metadata": {},
   "outputs": [],
   "source": [
    "def display_closestwords_tsnescatterplot(model, word):\n",
    "    \n",
    "    arr = np.empty((0,200), dtype='f')\n",
    "    word_labels = [word]\n",
    "    close_words = model.most_similar_cosmul(word, topn=10)\n",
    "    close_words = list(set(close_words))\n",
    "    arr = np.append(arr, np.array([model[word]]), axis=0)\n",
    "    for wrd_score in close_words:\n",
    "        wrd_vector = model[wrd_score[0]]\n",
    "        word_labels.append(wrd_score[0])\n",
    "        arr = np.append(arr, np.array([wrd_vector]), axis=0)\n",
    "        \n",
    "    tsne = TSNE(n_components=2, random_state=0)\n",
    "    np.set_printoptions(suppress=True)\n",
    "    Y = tsne.fit_transform(arr)\n",
    "\n",
    "    x_coords = Y[:, 0]\n",
    "    y_coords = Y[:, 1]\n",
    "    plt.scatter(x_coords, y_coords)\n",
    "\n",
    "    for label, x, y in zip(word_labels, x_coords, y_coords):\n",
    "        plt.annotate(label, xy=(x, y), xytext=(0, 0), textcoords='offset points')\n",
    "    plt.xlim(x_coords.min()+0.00005, x_coords.max()+0.00005)\n",
    "    plt.ylim(y_coords.min()+0.00005, y_coords.max()+0.00005)\n",
    "    plt.show()"
   ]
  },
  {
   "cell_type": "code",
   "execution_count": null,
   "metadata": {},
   "outputs": [],
   "source": []
  }
 ],
 "metadata": {
  "kernelspec": {
   "display_name": "Python 3",
   "language": "python",
   "name": "python3"
  },
  "language_info": {
   "codemirror_mode": {
    "name": "ipython",
    "version": 3
   },
   "file_extension": ".py",
   "mimetype": "text/x-python",
   "name": "python",
   "nbconvert_exporter": "python",
   "pygments_lexer": "ipython3",
   "version": "3.5.2"
  }
 },
 "nbformat": 4,
 "nbformat_minor": 2
}
