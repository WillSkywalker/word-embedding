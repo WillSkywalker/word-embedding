{
 "cells": [
  {
   "cell_type": "markdown",
   "metadata": {},
   "source": [
    "## Word embeddings\n",
    "### *Apr 16, 2019*\n",
    "### Author:\n",
    "\n",
    "Gensim documents: https://radimrehurek.com/gensim/models/word2vec.html\n",
    "If there's any import error, please run `pip install -r requirements.txt` under this directory."
   ]
  },
  {
   "cell_type": "markdown",
   "metadata": {},
   "source": [
    "### 1.\n",
    "Word2vec offers a small corpus for testing: http://mattmahoney.net/dc/text8.zip. Let's play around with this trained model.\n",
    "\n",
    "Loading the data requires a large amount of RAM and may take a while."
   ]
  },
  {
   "cell_type": "code",
   "execution_count": 12,
   "metadata": {},
   "outputs": [],
   "source": [
    "from gensim import models\n",
    "import gensim.downloader as api\n",
    "import numpy as np\n",
    "import matplotlib.pyplot as plt\n",
    "from sklearn.manifold import TSNE\n",
    "\n",
    "\n",
    "dataset = api.load(\"text8\")"
   ]
  },
  {
   "cell_type": "code",
   "execution_count": 5,
   "metadata": {},
   "outputs": [],
   "source": [
    "w = models.Word2Vec(dataset)"
   ]
  },
  {
   "cell_type": "code",
   "execution_count": 10,
   "metadata": {},
   "outputs": [
    {
     "data": {
      "text/plain": [
       "[('meat', 0.8315112590789795),\n",
       " ('eat', 0.8029888272285461),\n",
       " ('milk', 0.7873179912567139),\n",
       " ('drinks', 0.7806337475776672),\n",
       " ('fruit', 0.7606136798858643),\n",
       " ('eating', 0.7544460296630859),\n",
       " ('honey', 0.7533469796180725),\n",
       " ('beer', 0.750900387763977),\n",
       " ('liquor', 0.7410033345222473),\n",
       " ('beef', 0.739946722984314)]"
      ]
     },
     "execution_count": 10,
     "metadata": {},
     "output_type": "execute_result"
    }
   ],
   "source": [
    "w.wv.similar_by_word('drink')"
   ]
  },
  {
   "cell_type": "markdown",
   "metadata": {},
   "source": [
    "Try some differnt words and find their most similar words according to our model. Which of them are unexpected? What's the possible explanation?"
   ]
  },
  {
   "cell_type": "code",
   "execution_count": null,
   "metadata": {},
   "outputs": [],
   "source": []
  },
  {
   "cell_type": "markdown",
   "metadata": {},
   "source": [
    "### 2.\n",
    "We mentioned how to find analogies in our class. Can you come up with more such relations? Please add two more relations, and leavea a possible explanation if the result is unexpected (which is often the case)."
   ]
  },
  {
   "cell_type": "code",
   "execution_count": 9,
   "metadata": {},
   "outputs": [
    {
     "data": {
      "text/plain": [
       "[('queen', 0.6991748213768005),\n",
       " ('princess', 0.6138308644294739),\n",
       " ('empress', 0.6116824150085449),\n",
       " ('elizabeth', 0.5983043909072876),\n",
       " ('emperor', 0.5824447870254517),\n",
       " ('prince', 0.5801239013671875),\n",
       " ('regent', 0.5786587595939636),\n",
       " ('daughter', 0.57823246717453),\n",
       " ('isabella', 0.5703590512275696),\n",
       " ('mary', 0.5700576901435852)]"
      ]
     },
     "execution_count": 9,
     "metadata": {},
     "output_type": "execute_result"
    }
   ],
   "source": [
    "w.wv.most_similar(positive=['woman', 'king'], negative=['man'])"
   ]
  },
  {
   "cell_type": "markdown",
   "metadata": {},
   "source": [
    "### 3.\n",
    "Now you can define a new model and try to change the parameter, see if that makes a difference in your result. What are the influences of window size? What about embeddings' length?"
   ]
  },
  {
   "cell_type": "code",
   "execution_count": null,
   "metadata": {},
   "outputs": [],
   "source": []
  },
  {
   "cell_type": "markdown",
   "metadata": {},
   "source": [
    "### 4. (optional)\n",
    "Train your own word2vec model by using your own corpus from e.g. Wikipedia, Twitter, novels, etc.\n",
    "\n",
    "You may refer to: https://en.wikipedia.org/wiki/List_of_text_corpora"
   ]
  },
  {
   "cell_type": "code",
   "execution_count": null,
   "metadata": {},
   "outputs": [],
   "source": [
    "your_dataset = open('<filename>').read()  ## save your corpus as raw text\n",
    "your_model = models.Word2Vec(your_dataset)"
   ]
  },
  {
   "cell_type": "markdown",
   "metadata": {},
   "source": [
    "### 5. (optional)\n",
    "Visualizing your word embeddings with the function offered below."
   ]
  },
  {
   "cell_type": "code",
   "execution_count": 13,
   "metadata": {},
   "outputs": [],
   "source": [
    "def display_closestwords_tsnescatterplot(model, word):\n",
    "    \n",
    "    arr = np.empty((0,200), dtype='f')\n",
    "    word_labels = [word]\n",
    "    close_words = model.most_similar_cosmul(word, topn=10)\n",
    "    close_words = list(set(close_words))\n",
    "    arr = np.append(arr, np.array([model[word]]), axis=0)\n",
    "    for wrd_score in close_words:\n",
    "        wrd_vector = model[wrd_score[0]]\n",
    "        word_labels.append(wrd_score[0])\n",
    "        arr = np.append(arr, np.array([wrd_vector]), axis=0)\n",
    "        \n",
    "    tsne = TSNE(n_components=2, random_state=0)\n",
    "    np.set_printoptions(suppress=True)\n",
    "    Y = tsne.fit_transform(arr)\n",
    "\n",
    "    x_coords = Y[:, 0]\n",
    "    y_coords = Y[:, 1]\n",
    "    plt.scatter(x_coords, y_coords)\n",
    "\n",
    "    for label, x, y in zip(word_labels, x_coords, y_coords):\n",
    "        plt.annotate(label, xy=(x, y), xytext=(0, 0), textcoords='offset points')\n",
    "    plt.xlim(x_coords.min()+0.00005, x_coords.max()+0.00005)\n",
    "    plt.ylim(y_coords.min()+0.00005, y_coords.max()+0.00005)\n",
    "    plt.show()"
   ]
  },
  {
   "cell_type": "code",
   "execution_count": null,
   "metadata": {},
   "outputs": [],
   "source": []
  }
 ],
 "metadata": {
  "kernelspec": {
   "display_name": "Python 3",
   "language": "python",
   "name": "python3"
  },
  "language_info": {
   "codemirror_mode": {
    "name": "ipython",
    "version": 3
   },
   "file_extension": ".py",
   "mimetype": "text/x-python",
   "name": "python",
   "nbconvert_exporter": "python",
   "pygments_lexer": "ipython3",
   "version": "3.7.3"
  }
 },
 "nbformat": 4,
 "nbformat_minor": 2
}
